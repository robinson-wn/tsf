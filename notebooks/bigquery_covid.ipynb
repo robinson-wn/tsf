{
 "cells": [
  {
   "cell_type": "markdown",
   "metadata": {
    "collapsed": true,
    "pycharm": {
     "name": "#%% md\n"
    }
   },
   "source": [
    "# Introduction\n",
    "See the other notebook, local_covid, to complete the functions required.\n",
    "Assuming that the newly written functions work, and that they are updated in covid_tsf.py,\n",
    "then follow these instructions to obtain the data from BigQuery rather than locally.\n",
    "\n",
    "# Obtain a Google BigQuery account credentials\n",
    "See the readme for steps to get a Google BigQuery account credentials.\n",
    "You'll need the exported json file, which is necessary to connect to BigQuery.\n",
    "\n",
    "# Edit the BigQuery Python parameters in covid_tsf\n",
    "Edit the following code, ensuring that it references your newly downloaded json file,\n",
    "which should be placed in the project folder (and called bq_credentials.json).\n",
    "\n",
    "Ensure that the other variables correct specify your Google Project and your newly created dataset (see the readme.md)\n",
    "\n",
    "```\n",
    "# TODO Edit these according to your project in the covid_tsf.py file\n",
    "_bq_credentials_file = \"./bq_credentials.json\"\n",
    "_bq_project_id = 'spark8795'\n",
    "_bq_project_dataset = 'spark8795'\n",
    "```"
   ]
  },
  {
   "cell_type": "code",
   "execution_count": 1,
   "outputs": [
    {
     "name": "stderr",
     "output_type": "stream",
     "text": [
      "22/04/28 15:04:21 INFO: numexpr.utils: NumExpr defaulting to 8 threads.\n"
     ]
    },
    {
     "name": "stdout",
     "output_type": "stream",
     "text": [
      "Working directory D:\\Users\\robin\\OneDrive\\Profile\\Documents\\dev\\tsf\n"
     ]
    }
   ],
   "source": [
    "import os\n",
    "\n",
    "from tsf.exercise import *\n",
    "\n",
    "# Running notebooks w/i PyCharm project, set cwd to project root.\n",
    "folder = os.path.basename(os.getcwd())\n",
    "if folder != 'tsf':\n",
    "    os.chdir('../')\n",
    "    print(f\"Working directory {os.getcwd()}\")"
   ],
   "metadata": {
    "collapsed": false,
    "pycharm": {
     "name": "#%%\n"
    }
   }
  },
  {
   "cell_type": "code",
   "execution_count": 2,
   "outputs": [],
   "source": [
    "import tsf\n",
    "\n",
    "\n",
    "# In a notebook, you can also override the values\n",
    "# tsf.exercise.bq_credentials_file = \"./bq_credentials.json\"\n",
    "# tsf.exercise.bq_project_id = 'spark8795'\n",
    "# tsf.exercise.bq_project_dataset = 'spark8795'"
   ],
   "metadata": {
    "collapsed": false,
    "pycharm": {
     "name": "#%%\n"
    }
   }
  },
  {
   "cell_type": "markdown",
   "source": [
    "# Read the data from Google BigQuery"
   ],
   "metadata": {
    "collapsed": false
   }
  },
  {
   "cell_type": "code",
   "execution_count": 3,
   "outputs": [
    {
     "name": "stderr",
     "output_type": "stream",
     "text": [
      "22/04/28 15:04:28 INFO: tsf: Getting data from Google BigQuery.\n",
      "22/04/28 15:04:32 DEBUG: tsf: Repartitioning data by state.\n",
      "22/04/28 15:04:38 DEBUG: tsf: Normalizing data.\n",
      "22/04/28 15:04:45 DEBUG: tsf: Joining case and death data\n"
     ]
    },
    {
     "name": "stdout",
     "output_type": "stream",
     "text": [
      "+-----+----------------+----------+---------------+--------------------+-----+------+\n",
      "|state|county_fips_code|      date|state_fips_code|         county_name|cases|deaths|\n",
      "+-----+----------------+----------+---------------+--------------------+-----+------+\n",
      "|   AK|           00000|2020-01-24|             02|Statewide Unalloc...|    0|     0|\n",
      "|   AK|           00000|2020-02-01|             02|Statewide Unalloc...|    0|     0|\n",
      "|   AK|           00000|2020-03-03|             02|Statewide Unalloc...|    0|     0|\n",
      "|   AK|           00000|2020-03-06|             02|Statewide Unalloc...|    0|     0|\n",
      "|   AK|           00000|2020-03-15|             02|Statewide Unalloc...|    0|     0|\n",
      "|   AK|           00000|2020-04-19|             02|Statewide Unalloc...|    5|     0|\n",
      "|   AK|           00000|2020-04-29|             02|Statewide Unalloc...|    5|     0|\n",
      "|   AK|           00000|2020-05-18|             02|Statewide Unalloc...|    7|     0|\n",
      "|   AK|           00000|2020-05-19|             02|Statewide Unalloc...|    2|     0|\n",
      "|   AK|           00000|2020-07-17|             02|Statewide Unalloc...|    0|     0|\n",
      "|   AK|           00000|2020-07-18|             02|Statewide Unalloc...|    0|     0|\n",
      "|   AK|           00000|2020-08-02|             02|Statewide Unalloc...|    0|     0|\n",
      "|   AK|           00000|2020-08-29|             02|Statewide Unalloc...|    0|     0|\n",
      "|   AK|           00000|2020-08-31|             02|Statewide Unalloc...|    0|     0|\n",
      "|   AK|           00000|2020-10-07|             02|Statewide Unalloc...|    0|     0|\n",
      "|   AK|           00000|2020-10-08|             02|Statewide Unalloc...|    0|     0|\n",
      "|   AK|           00000|2020-10-15|             02|Statewide Unalloc...|    0|     0|\n",
      "|   AK|           00000|2020-10-17|             02|Statewide Unalloc...|    0|     0|\n",
      "|   AK|           00000|2020-11-07|             02|Statewide Unalloc...|    0|     0|\n",
      "|   AK|           00000|2020-11-16|             02|Statewide Unalloc...|    0|     0|\n",
      "+-----+----------------+----------+---------------+--------------------+-----+------+\n",
      "only showing top 20 rows\n",
      "\n"
     ]
    }
   ],
   "source": [
    "data = create_dataset(local_data=False).cache()\n",
    "data.show()"
   ],
   "metadata": {
    "collapsed": false,
    "pycharm": {
     "name": "#%%\n"
    }
   }
  },
  {
   "cell_type": "code",
   "execution_count": 3,
   "outputs": [],
   "source": [
    "\n"
   ],
   "metadata": {
    "collapsed": false,
    "pycharm": {
     "name": "#%%\n"
    }
   }
  }
 ],
 "metadata": {
  "kernelspec": {
   "display_name": "Python 3",
   "language": "python",
   "name": "python3"
  },
  "language_info": {
   "codemirror_mode": {
    "name": "ipython",
    "version": 2
   },
   "file_extension": ".py",
   "mimetype": "text/x-python",
   "name": "python",
   "nbconvert_exporter": "python",
   "pygments_lexer": "ipython2",
   "version": "2.7.6"
  }
 },
 "nbformat": 4,
 "nbformat_minor": 0
}